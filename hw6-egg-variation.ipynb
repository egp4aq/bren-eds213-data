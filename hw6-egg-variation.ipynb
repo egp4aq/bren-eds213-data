{
 "cells": [
  {
   "cell_type": "markdown",
   "id": "a1d6f2ed",
   "metadata": {},
   "source": [
    "## HW 5: Characterizing egg variation\n",
    "### Author: Liz Peterson\n",
    "### Date: 5-15-25\n"
   ]
  },
  {
   "cell_type": "markdown",
   "id": "da894c40",
   "metadata": {},
   "source": [
    "#### Step 1: Create a query that returns distinct species with egg data"
   ]
  },
  {
   "cell_type": "code",
   "execution_count": 1,
   "id": "3b5c5a30",
   "metadata": {},
   "outputs": [
    {
     "ename": "ModuleNotFoundError",
     "evalue": "No module named 'duckdb'",
     "output_type": "error",
     "traceback": [
      "\u001b[0;31m---------------------------------------------------------------------------\u001b[0m",
      "\u001b[0;31mModuleNotFoundError\u001b[0m                       Traceback (most recent call last)",
      "Cell \u001b[0;32mIn[1], line 1\u001b[0m\n\u001b[0;32m----> 1\u001b[0m \u001b[38;5;28;01mimport\u001b[39;00m \u001b[38;5;21;01mduckdb\u001b[39;00m\n\u001b[1;32m      2\u001b[0m \u001b[38;5;28;01mimport\u001b[39;00m \u001b[38;5;21;01mpandas\u001b[39;00m \u001b[38;5;28;01mas\u001b[39;00m \u001b[38;5;21;01mpd\u001b[39;00m\n\u001b[1;32m      4\u001b[0m conn \u001b[38;5;241m=\u001b[39m duckdb\u001b[38;5;241m.\u001b[39mconnect(\u001b[38;5;124m\"\u001b[39m\u001b[38;5;124m../database/database.db\u001b[39m\u001b[38;5;124m\"\u001b[39m)\n",
      "\u001b[0;31mModuleNotFoundError\u001b[0m: No module named 'duckdb'"
     ]
    }
   ],
   "source": [
    "import duckdb\n",
    "import pandas as pd\n",
    "\n",
    "conn = duckdb.connect(\"../database/database.db\")\n",
    "c = conn.cursor()"
   ]
  },
  {
   "cell_type": "code",
   "execution_count": null,
   "id": "f7497356",
   "metadata": {},
   "outputs": [],
   "source": [
    "c.execute(\"\"\"SELECT DISTINCT Code, Scientific_name FROM Species \n",
    "    INNER JOIN Bird_nests\n",
    "    ON Species.Code = Bird_nests.Species\n",
    "    INNER JOIN Bird_eggs\n",
    "    ON Bird_eggs.Nest_ID = Bird_nests.Nest_ID\n",
    "    ORDER BY Scientific_name\"\"\")\n",
    "c.fetchall()"
   ]
  },
  {
   "cell_type": "markdown",
   "id": "15f35c90",
   "metadata": {},
   "source": [
    "#### Step 2: Iterate over the species"
   ]
  },
  {
   "cell_type": "code",
   "execution_count": null,
   "id": "a4a10aec",
   "metadata": {},
   "outputs": [],
   "source": [
    "# Define species query from above\n",
    "species_query = \"\"\"SELECT DISTINCT Code, Scientific_name FROM Species \n",
    "    INNER JOIN Bird_nests\n",
    "    ON Species.Code = Bird_nests.Species\n",
    "    INNER JOIN Bird_eggs\n",
    "    ON Bird_eggs.Nest_ID = Bird_nests.Nest_ID\n",
    "    ORDER BY Scientific_name\"\"\"\n",
    "\n",
    "# Iterate over species\n",
    "for row in c.execute(species_query).fetchall(): \n",
    "    species_code = row[0]\n",
    "    scientific_name = row[1]"
   ]
  },
  {
   "cell_type": "markdown",
   "id": "e39f0025",
   "metadata": {},
   "source": [
    "#### Step 3: Construct a query that gathers egg data for a given species, one species at a time"
   ]
  },
  {
   "cell_type": "code",
   "execution_count": null,
   "id": "9823bf45",
   "metadata": {},
   "outputs": [],
   "source": [
    "# Define species query from above\n",
    "species_query = \"\"\"SELECT DISTINCT Code, Scientific_name FROM Species \n",
    "    INNER JOIN Bird_nests\n",
    "    ON Species.Code = Bird_nests.Species\n",
    "    INNER JOIN Bird_eggs\n",
    "    ON Bird_eggs.Nest_ID = Bird_nests.Nest_ID\n",
    "    ORDER BY Scientific_name\"\"\"\n",
    "\n",
    "# Iterate over species\n",
    "for row in c.execute(species_query).fetchall():\n",
    "    species_code = row[0]\n",
    "    scientific_name = row[1]\n",
    "    egg_query = \"\"\"SELECT Width*Width*Length AS Volume, Species FROM Bird_eggs\n",
    "    JOIN Bird_nests\n",
    "    ON Bird_eggs.Nest_ID = Bird_nests.Nest_ID\n",
    "    WHERE Bird_nests.Species = ?\"\"\"\n",
    "    df = pd.read_sql(egg_query, conn, params=[species_code])\n",
    "    print(df)"
   ]
  },
  {
   "cell_type": "markdown",
   "id": "81eda7d0",
   "metadata": {},
   "source": [
    "#### Step 4: Compute statistics and print out the results"
   ]
  },
  {
   "cell_type": "code",
   "execution_count": null,
   "id": "b52f0fba",
   "metadata": {},
   "outputs": [],
   "source": [
    "# Define species query\n",
    "species_query = \"\"\"SELECT DISTINCT Code, Scientific_name FROM Species \n",
    "    INNER JOIN Bird_nests\n",
    "    ON Species.Code = Bird_nests.Species\n",
    "    INNER JOIN Bird_eggs\n",
    "    ON Bird_eggs.Nest_ID = Bird_nests.Nest_ID\n",
    "    ORDER BY Scientific_name\"\"\"\n",
    "\n",
    "for row in c.execute(species_query).fetchall():\n",
    "    species_code = row[0]\n",
    "    scientific_name = row[1]\n",
    "    egg_query = \"\"\"SELECT Width*Width*Length AS Volume, Scientific_name FROM Bird_eggs\n",
    "    JOIN Bird_nests\n",
    "    ON Bird_eggs.Nest_ID = Bird_nests.Nest_ID\n",
    "    JOIN Species\n",
    "    ON Species.Code = Bird_nests.Species    \n",
    "    WHERE Bird_nests.Species = ?\"\"\"\n",
    "    df = pd.read_sql(egg_query, conn, params=[species_code])\n",
    "    cv = round(df.Volume.std()/df.Volume.mean()*100, 2)\n",
    "    print(f\"{scientific_name} {cv}%\")"
   ]
  }
 ],
 "metadata": {
  "kernelspec": {
   "display_name": "eds296-stevenson",
   "language": "python",
   "name": "python3"
  },
  "language_info": {
   "codemirror_mode": {
    "name": "ipython",
    "version": 3
   },
   "file_extension": ".py",
   "mimetype": "text/x-python",
   "name": "python",
   "nbconvert_exporter": "python",
   "pygments_lexer": "ipython3",
   "version": "3.8.18"
  }
 },
 "nbformat": 4,
 "nbformat_minor": 5
}
